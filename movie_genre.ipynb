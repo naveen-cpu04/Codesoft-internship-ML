{
 "cells": [
  {
   "cell_type": "code",
   "execution_count": 1,
   "metadata": {},
   "outputs": [],
   "source": [
    "import pandas as pd\n",
    "import numpy as np"
   ]
  },
  {
   "cell_type": "code",
   "execution_count": 2,
   "metadata": {},
   "outputs": [],
   "source": [
    "descriptions = []\n",
    "genres = []\n",
    "\n",
    "with open(r'movie genre/train_data.txt', 'r',encoding='utf-8') as file:\n",
    "    for line in file:\n",
    "        parts = line.strip().split(\":::\") \n",
    "        if len(parts) == 3:  \n",
    "            descriptions.append(parts[1].strip()) \n",
    "            genres.append(parts[2].strip())  \n",
    "\n",
    "data = pd.DataFrame({'description': descriptions, 'genre': genres})"
   ]
  },
  {
   "cell_type": "code",
   "execution_count": 3,
   "metadata": {},
   "outputs": [],
   "source": [
    "import pandas as pd\n",
    "\n",
    "# Read the text file line by line and store descriptions and genres\n",
    "descriptions = []\n",
    "genres = []\n",
    "\n",
    "with open(r'movie genre/train_data.txt', 'r', encoding='utf-8') as file:\n",
    "    for line in file:\n",
    "        parts = line.strip().split(\":::\")\n",
    "        if len(parts) == 4:\n",
    "            descriptions.append(parts[3].strip())\n",
    "            genres.append(parts[2].strip())\n",
    "\n",
    "# Create a DataFrame from the extracted data\n",
    "data = pd.DataFrame({'description': descriptions, 'genre': genres})\n",
    "\n",
    "# Save the data to a CSV file\n",
    "data.to_csv('movie genre/train_data.csv', index=False)\n"
   ]
  },
  {
   "cell_type": "code",
   "execution_count": 4,
   "metadata": {},
   "outputs": [],
   "source": [
    "import pandas as pd\n",
    "\n",
    "# Read the text file line by line and store descriptions and genres\n",
    "descriptions = []\n",
    "genres = []\n",
    "\n",
    "with open(r'C:\\Users\\tiruv\\Desktop\\codesoft_intern\\movie genre\\test_data_solution.txt', 'r', encoding='utf-8') as file:\n",
    "    for line in file:\n",
    "        parts = line.strip().split(\":::\")\n",
    "        if len(parts) == 4:\n",
    "            descriptions.append(parts[3].strip())\n",
    "            genres.append(parts[2].strip())\n",
    "            \n",
    "\n",
    "# Create a DataFrame from the extracted data\n",
    "data = pd.DataFrame({'description': descriptions, 'genre': genres})\n",
    "\n",
    "# Save the data to a CSV file\n",
    "data.to_csv('movie genre/test_data.csv', index=False)\n"
   ]
  },
  {
   "cell_type": "code",
   "execution_count": 79,
   "metadata": {},
   "outputs": [
    {
     "data": {
      "text/plain": [
       "0        Listening in to a conversation between his doc...\n",
       "1        A brother and sister with a past incestuous re...\n",
       "2        As the bus empties the students for their fiel...\n",
       "3        To help their unemployed father make ends meet...\n",
       "4        The film's title refers not only to the un-rec...\n",
       "                               ...                        \n",
       "54209    This short-lived NBC live sitcom centered on B...\n",
       "54210    The NEXT Generation of EXPLOITATION. The siste...\n",
       "54211    Ze bestaan echt, is a stand-up comedy about gr...\n",
       "54212    Walter and Vivian live in the country and have...\n",
       "54213    On Labor Day Weekend, 1935, the most intense h...\n",
       "Name: description, Length: 54214, dtype: object"
      ]
     },
     "execution_count": 79,
     "metadata": {},
     "output_type": "execute_result"
    }
   ],
   "source": [
    "df_train=pd.read_csv('movie genre/train_data.csv')\n",
    "x_train=df_train['description']\n",
    "x_train\n"
   ]
  },
  {
   "cell_type": "code",
   "execution_count": 6,
   "metadata": {},
   "outputs": [
    {
     "data": {
      "text/plain": [
       "0           drama\n",
       "1        thriller\n",
       "2           adult\n",
       "3           drama\n",
       "4           drama\n",
       "5     documentary\n",
       "6          comedy\n",
       "7           crime\n",
       "8      reality-tv\n",
       "9          horror\n",
       "10    documentary\n",
       "11          drama\n",
       "12    documentary\n",
       "13       thriller\n",
       "14          drama\n",
       "15          drama\n",
       "16         comedy\n",
       "17    documentary\n",
       "18          sport\n",
       "19      animation\n",
       "20          drama\n",
       "21         comedy\n",
       "22         comedy\n",
       "23          drama\n",
       "24         action\n",
       "25        fantasy\n",
       "26          short\n",
       "27         sci-fi\n",
       "28       thriller\n",
       "29    documentary\n",
       "30         horror\n",
       "31    documentary\n",
       "32         action\n",
       "33    documentary\n",
       "34          music\n",
       "35         comedy\n",
       "36          drama\n",
       "37          drama\n",
       "38         comedy\n",
       "39         comedy\n",
       "40    documentary\n",
       "41         comedy\n",
       "42          short\n",
       "43          drama\n",
       "44      adventure\n",
       "45       thriller\n",
       "46    documentary\n",
       "47          short\n",
       "48          drama\n",
       "49       thriller\n",
       "Name: genre, dtype: object"
      ]
     },
     "execution_count": 6,
     "metadata": {},
     "output_type": "execute_result"
    }
   ],
   "source": [
    "y=df_train['genre']\n",
    "y[0:50]\n"
   ]
  },
  {
   "cell_type": "code",
   "execution_count": 32,
   "metadata": {},
   "outputs": [
    {
     "name": "stdout",
     "output_type": "stream",
     "text": [
      "{'action': 0, 'adult': 1, 'adventure': 2, 'animation': 3, 'biography': 4, 'comedy': 5, 'crime': 6, 'documentary': 7, 'drama': 8, 'family': 9, 'fantasy': 10, 'game-show': 11, 'history': 12, 'horror': 13, 'music': 14, 'musical': 15, 'mystery': 16, 'news': 17, 'reality-tv': 18, 'romance': 19, 'sci-fi': 20, 'short': 21, 'sport': 22, 'talk-show': 23, 'thriller': 24, 'war': 25, 'western': 26}\n"
     ]
    }
   ],
   "source": [
    "from sklearn.preprocessing import LabelEncoder\n",
    "unique=np.unique(df_train['genre'])\n",
    "unique.sort()\n",
    "label_encoder = LabelEncoder()\n",
    "encoded_genres = label_encoder.fit_transform(unique)\n",
    "encoded_dict={}\n",
    "for i,j in zip(unique,encoded_genres):\n",
    "    encoded_dict[i]=j\n",
    "print(encoded_dict)\n"
   ]
  },
  {
   "cell_type": "code",
   "execution_count": 33,
   "metadata": {},
   "outputs": [
    {
     "name": "stderr",
     "output_type": "stream",
     "text": [
      "C:\\Users\\tiruv\\AppData\\Local\\Temp\\ipykernel_13248\\2102658084.py:3: SettingWithCopyWarning: \n",
      "A value is trying to be set on a copy of a slice from a DataFrame\n",
      "\n",
      "See the caveats in the documentation: https://pandas.pydata.org/pandas-docs/stable/user_guide/indexing.html#returning-a-view-versus-a-copy\n",
      "  df_train['encoded'][i]=encoded_dict[df_train['genre'][i]]\n"
     ]
    }
   ],
   "source": [
    "df_train['encoded']=0\n",
    "for i in range(len(df_train)):\n",
    "    df_train['encoded'][i]=encoded_dict[df_train['genre'][i]]"
   ]
  },
  {
   "cell_type": "code",
   "execution_count": 9,
   "metadata": {},
   "outputs": [
    {
     "data": {
      "text/plain": [
       "0         8\n",
       "1        24\n",
       "2         1\n",
       "3         8\n",
       "4         8\n",
       "         ..\n",
       "54209     5\n",
       "54210    13\n",
       "54211     7\n",
       "54212     5\n",
       "54213    12\n",
       "Name: encoded, Length: 54214, dtype: int64"
      ]
     },
     "execution_count": 9,
     "metadata": {},
     "output_type": "execute_result"
    }
   ],
   "source": [
    "y_train=df_train['encoded']\n",
    "y_train"
   ]
  },
  {
   "cell_type": "code",
   "execution_count": 80,
   "metadata": {},
   "outputs": [
    {
     "data": {
      "text/plain": [
       "0        Listening in to a conversation between his doc...\n",
       "1        A brother and sister with a past incestuous re...\n",
       "2        As the bus empties the students for their fiel...\n",
       "3        To help their unemployed father make ends meet...\n",
       "4        The film's title refers not only to the un-rec...\n",
       "                               ...                        \n",
       "54209    This short-lived NBC live sitcom centered on B...\n",
       "54210    The NEXT Generation of EXPLOITATION. The siste...\n",
       "54211    Ze bestaan echt, is a stand-up comedy about gr...\n",
       "54212    Walter and Vivian live in the country and have...\n",
       "54213    On Labor Day Weekend, 1935, the most intense h...\n",
       "Name: description, Length: 54214, dtype: object"
      ]
     },
     "execution_count": 80,
     "metadata": {},
     "output_type": "execute_result"
    }
   ],
   "source": [
    "x_train"
   ]
  },
  {
   "cell_type": "code",
   "execution_count": 77,
   "metadata": {},
   "outputs": [
    {
     "data": {
      "text/plain": [
       "0        L.R. Brane loves his life - his car, his apart...\n",
       "1        Spain, March 1964: Quico is a very naughty chi...\n",
       "2        One year in the life of Albin and his family o...\n",
       "3        His father has died, he hasn't spoken with his...\n",
       "4        Before he was known internationally as a marti...\n",
       "                               ...                        \n",
       "54195    Covering multiple genres, Tales of Light & Dar...\n",
       "54196    As Alice and Cora Munro attempt to find their ...\n",
       "54197    A movie 169 years in the making. Oliver Twist,...\n",
       "54198    Popular, but mysterious rock D.J Mike Mallard ...\n",
       "54199    Curitiba is a city in movement, with rhythms a...\n",
       "Name: description, Length: 54200, dtype: object"
      ]
     },
     "execution_count": 77,
     "metadata": {},
     "output_type": "execute_result"
    }
   ],
   "source": [
    "df_test=pd.read_csv('movie genre/test_data.csv')\n",
    "x_test=df_test['description']\n",
    "x_test\n"
   ]
  },
  {
   "cell_type": "code",
   "execution_count": 36,
   "metadata": {},
   "outputs": [
    {
     "data": {
      "text/plain": [
       "0           thriller\n",
       "1             comedy\n",
       "2        documentary\n",
       "3              drama\n",
       "4              drama\n",
       "            ...     \n",
       "54195         horror\n",
       "54196        western\n",
       "54197          adult\n",
       "54198          drama\n",
       "54199          drama\n",
       "Name: genre, Length: 54200, dtype: object"
      ]
     },
     "execution_count": 36,
     "metadata": {},
     "output_type": "execute_result"
    }
   ],
   "source": [
    "y_test=df_test['genre']\n",
    "y_test\n"
   ]
  },
  {
   "cell_type": "code",
   "execution_count": 81,
   "metadata": {},
   "outputs": [
    {
     "data": {
      "text/plain": [
       "0        Listening in to a conversation between his doc...\n",
       "1        A brother and sister with a past incestuous re...\n",
       "2        As the bus empties the students for their fiel...\n",
       "3        To help their unemployed father make ends meet...\n",
       "4        The film's title refers not only to the un-rec...\n",
       "                               ...                        \n",
       "54209    This short-lived NBC live sitcom centered on B...\n",
       "54210    The NEXT Generation of EXPLOITATION. The siste...\n",
       "54211    Ze bestaan echt, is a stand-up comedy about gr...\n",
       "54212    Walter and Vivian live in the country and have...\n",
       "54213    On Labor Day Weekend, 1935, the most intense h...\n",
       "Name: description, Length: 54214, dtype: object"
      ]
     },
     "execution_count": 81,
     "metadata": {},
     "output_type": "execute_result"
    }
   ],
   "source": [
    "x_train"
   ]
  },
  {
   "cell_type": "code",
   "execution_count": 48,
   "metadata": {},
   "outputs": [
    {
     "name": "stderr",
     "output_type": "stream",
     "text": [
      "C:\\Users\\tiruv\\AppData\\Local\\Temp\\ipykernel_13248\\1441249706.py:3: SettingWithCopyWarning: \n",
      "A value is trying to be set on a copy of a slice from a DataFrame\n",
      "\n",
      "See the caveats in the documentation: https://pandas.pydata.org/pandas-docs/stable/user_guide/indexing.html#returning-a-view-versus-a-copy\n",
      "  df_test['encoded'][i]=encoded_dict[df_test['genre'][i]]\n"
     ]
    }
   ],
   "source": [
    "df_test['encoded']=0\n",
    "for i in range(len(df_test)):\n",
    "    df_test['encoded'][i]=encoded_dict[df_test['genre'][i]]"
   ]
  },
  {
   "cell_type": "code",
   "execution_count": 49,
   "metadata": {},
   "outputs": [],
   "source": [
    "y_test=df_test['encoded']"
   ]
  },
  {
   "cell_type": "code",
   "execution_count": 82,
   "metadata": {},
   "outputs": [
    {
     "data": {
      "text/plain": [
       "0        Listening in to a conversation between his doc...\n",
       "1        A brother and sister with a past incestuous re...\n",
       "2        As the bus empties the students for their fiel...\n",
       "3        To help their unemployed father make ends meet...\n",
       "4        The film's title refers not only to the un-rec...\n",
       "                               ...                        \n",
       "54209    This short-lived NBC live sitcom centered on B...\n",
       "54210    The NEXT Generation of EXPLOITATION. The siste...\n",
       "54211    Ze bestaan echt, is a stand-up comedy about gr...\n",
       "54212    Walter and Vivian live in the country and have...\n",
       "54213    On Labor Day Weekend, 1935, the most intense h...\n",
       "Name: description, Length: 54214, dtype: object"
      ]
     },
     "execution_count": 82,
     "metadata": {},
     "output_type": "execute_result"
    }
   ],
   "source": [
    "x_train"
   ]
  },
  {
   "cell_type": "code",
   "execution_count": 54,
   "metadata": {},
   "outputs": [],
   "source": [
    "from sklearn.feature_extraction.text import CountVectorizer\n",
    "from sklearn.naive_bayes import MultinomialNB\n",
    "from sklearn.metrics import accuracy_score,classification_report"
   ]
  },
  {
   "cell_type": "code",
   "execution_count": 95,
   "metadata": {},
   "outputs": [],
   "source": [
    "vector=CountVectorizer()\n",
    "x_train=vector.fit_transform(x_train)\n",
    "x_test=vector.transform(x_test)"
   ]
  },
  {
   "cell_type": "code",
   "execution_count": 96,
   "metadata": {},
   "outputs": [
    {
     "data": {
      "text/html": [
       "<style>#sk-container-id-5 {color: black;}#sk-container-id-5 pre{padding: 0;}#sk-container-id-5 div.sk-toggleable {background-color: white;}#sk-container-id-5 label.sk-toggleable__label {cursor: pointer;display: block;width: 100%;margin-bottom: 0;padding: 0.3em;box-sizing: border-box;text-align: center;}#sk-container-id-5 label.sk-toggleable__label-arrow:before {content: \"▸\";float: left;margin-right: 0.25em;color: #696969;}#sk-container-id-5 label.sk-toggleable__label-arrow:hover:before {color: black;}#sk-container-id-5 div.sk-estimator:hover label.sk-toggleable__label-arrow:before {color: black;}#sk-container-id-5 div.sk-toggleable__content {max-height: 0;max-width: 0;overflow: hidden;text-align: left;background-color: #f0f8ff;}#sk-container-id-5 div.sk-toggleable__content pre {margin: 0.2em;color: black;border-radius: 0.25em;background-color: #f0f8ff;}#sk-container-id-5 input.sk-toggleable__control:checked~div.sk-toggleable__content {max-height: 200px;max-width: 100%;overflow: auto;}#sk-container-id-5 input.sk-toggleable__control:checked~label.sk-toggleable__label-arrow:before {content: \"▾\";}#sk-container-id-5 div.sk-estimator input.sk-toggleable__control:checked~label.sk-toggleable__label {background-color: #d4ebff;}#sk-container-id-5 div.sk-label input.sk-toggleable__control:checked~label.sk-toggleable__label {background-color: #d4ebff;}#sk-container-id-5 input.sk-hidden--visually {border: 0;clip: rect(1px 1px 1px 1px);clip: rect(1px, 1px, 1px, 1px);height: 1px;margin: -1px;overflow: hidden;padding: 0;position: absolute;width: 1px;}#sk-container-id-5 div.sk-estimator {font-family: monospace;background-color: #f0f8ff;border: 1px dotted black;border-radius: 0.25em;box-sizing: border-box;margin-bottom: 0.5em;}#sk-container-id-5 div.sk-estimator:hover {background-color: #d4ebff;}#sk-container-id-5 div.sk-parallel-item::after {content: \"\";width: 100%;border-bottom: 1px solid gray;flex-grow: 1;}#sk-container-id-5 div.sk-label:hover label.sk-toggleable__label {background-color: #d4ebff;}#sk-container-id-5 div.sk-serial::before {content: \"\";position: absolute;border-left: 1px solid gray;box-sizing: border-box;top: 0;bottom: 0;left: 50%;z-index: 0;}#sk-container-id-5 div.sk-serial {display: flex;flex-direction: column;align-items: center;background-color: white;padding-right: 0.2em;padding-left: 0.2em;position: relative;}#sk-container-id-5 div.sk-item {position: relative;z-index: 1;}#sk-container-id-5 div.sk-parallel {display: flex;align-items: stretch;justify-content: center;background-color: white;position: relative;}#sk-container-id-5 div.sk-item::before, #sk-container-id-5 div.sk-parallel-item::before {content: \"\";position: absolute;border-left: 1px solid gray;box-sizing: border-box;top: 0;bottom: 0;left: 50%;z-index: -1;}#sk-container-id-5 div.sk-parallel-item {display: flex;flex-direction: column;z-index: 1;position: relative;background-color: white;}#sk-container-id-5 div.sk-parallel-item:first-child::after {align-self: flex-end;width: 50%;}#sk-container-id-5 div.sk-parallel-item:last-child::after {align-self: flex-start;width: 50%;}#sk-container-id-5 div.sk-parallel-item:only-child::after {width: 0;}#sk-container-id-5 div.sk-dashed-wrapped {border: 1px dashed gray;margin: 0 0.4em 0.5em 0.4em;box-sizing: border-box;padding-bottom: 0.4em;background-color: white;}#sk-container-id-5 div.sk-label label {font-family: monospace;font-weight: bold;display: inline-block;line-height: 1.2em;}#sk-container-id-5 div.sk-label-container {text-align: center;}#sk-container-id-5 div.sk-container {/* jupyter's `normalize.less` sets `[hidden] { display: none; }` but bootstrap.min.css set `[hidden] { display: none !important; }` so we also need the `!important` here to be able to override the default hidden behavior on the sphinx rendered scikit-learn.org. See: https://github.com/scikit-learn/scikit-learn/issues/21755 */display: inline-block !important;position: relative;}#sk-container-id-5 div.sk-text-repr-fallback {display: none;}</style><div id=\"sk-container-id-5\" class=\"sk-top-container\"><div class=\"sk-text-repr-fallback\"><pre>MultinomialNB()</pre><b>In a Jupyter environment, please rerun this cell to show the HTML representation or trust the notebook. <br />On GitHub, the HTML representation is unable to render, please try loading this page with nbviewer.org.</b></div><div class=\"sk-container\" hidden><div class=\"sk-item\"><div class=\"sk-estimator sk-toggleable\"><input class=\"sk-toggleable__control sk-hidden--visually\" id=\"sk-estimator-id-5\" type=\"checkbox\" checked><label for=\"sk-estimator-id-5\" class=\"sk-toggleable__label sk-toggleable__label-arrow\">MultinomialNB</label><div class=\"sk-toggleable__content\"><pre>MultinomialNB()</pre></div></div></div></div></div>"
      ],
      "text/plain": [
       "MultinomialNB()"
      ]
     },
     "execution_count": 96,
     "metadata": {},
     "output_type": "execute_result"
    }
   ],
   "source": [
    "naive=MultinomialNB()\n",
    "naive.fit(x_train,y_train)\n"
   ]
  },
  {
   "cell_type": "code",
   "execution_count": 85,
   "metadata": {},
   "outputs": [
    {
     "data": {
      "text/plain": [
       "0        24\n",
       "1         5\n",
       "2         7\n",
       "3         8\n",
       "4         8\n",
       "         ..\n",
       "54195    13\n",
       "54196    26\n",
       "54197     1\n",
       "54198     8\n",
       "54199     8\n",
       "Name: encoded, Length: 54200, dtype: int64"
      ]
     },
     "execution_count": 85,
     "metadata": {},
     "output_type": "execute_result"
    }
   ],
   "source": [
    "y_test"
   ]
  },
  {
   "cell_type": "code",
   "execution_count": 97,
   "metadata": {},
   "outputs": [],
   "source": [
    "y_pred=naive.predict(x_test)\n"
   ]
  },
  {
   "cell_type": "code",
   "execution_count": 98,
   "metadata": {},
   "outputs": [
    {
     "name": "stdout",
     "output_type": "stream",
     "text": [
      "Accuracy: 0.5218450184501845\n"
     ]
    }
   ],
   "source": [
    "accuracy = accuracy_score(y_test, y_pred)\n",
    "print(\"Accuracy:\", accuracy)\n"
   ]
  }
 ],
 "metadata": {
  "kernelspec": {
   "display_name": "Python 3",
   "language": "python",
   "name": "python3"
  },
  "language_info": {
   "codemirror_mode": {
    "name": "ipython",
    "version": 3
   },
   "file_extension": ".py",
   "mimetype": "text/x-python",
   "name": "python",
   "nbconvert_exporter": "python",
   "pygments_lexer": "ipython3",
   "version": "3.11.1"
  }
 },
 "nbformat": 4,
 "nbformat_minor": 2
}
